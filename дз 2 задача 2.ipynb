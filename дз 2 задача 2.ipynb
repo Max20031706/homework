{
 "cells": [
  {
   "cell_type": "code",
   "execution_count": null,
   "metadata": {},
   "outputs": [],
   "source": [
    "with open('файл.txt', 'r', encoding='utf-8') as file:\n",
    "    lines = [line.strip() for line in file.readlines()]\n",
    "    symbols_to_delete = input(\"Введите символы для удаления: \")\n",
    "    lines = [line.rstrip(symbols_to_delete) + ';' for line in lines]\n",
    "    lines = [line[::-1] for line in lines]\n",
    "    lines = [line for line in lines if len(line) > 0]\n",
    "\n",
    "with open('output.txt', 'w', encoding='utf-8') as output:\n",
    "    output.write('\\n'.join(lines))\n"
   ]
  }
 ],
 "metadata": {
  "kernelspec": {
   "display_name": "Python 3",
   "language": "python",
   "name": "python3"
  },
  "language_info": {
   "codemirror_mode": {
    "name": "ipython",
    "version": 3
   },
   "file_extension": ".py",
   "mimetype": "text/x-python",
   "name": "python",
   "nbconvert_exporter": "python",
   "pygments_lexer": "ipython3",
   "version": "3.12.3"
  }
 },
 "nbformat": 4,
 "nbformat_minor": 2
}
