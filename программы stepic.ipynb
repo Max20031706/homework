{
 "cells": [
  {
   "cell_type": "code",
   "execution_count": 14,
   "metadata": {},
   "outputs": [
    {
     "name": "stdout",
     "output_type": "stream",
     "text": [
      "6 6 6 \n",
      "6 6 6 \n",
      "6 6 6 \n",
      "6 6 6 \n",
      "6 6 6 \n",
      "6 6 6 \n"
     ]
    }
   ],
   "source": [
    "n=int(input())\n",
    "for i in range(1,n+1):\n",
    "    for i in range(1,4):\n",
    "        print(n,end=' ')\n",
    "    print()    \n",
    "       "
   ]
  },
  {
   "cell_type": "code",
   "execution_count": 30,
   "metadata": {},
   "outputs": [
    {
     "name": "stdout",
     "output_type": "stream",
     "text": [
      "1 1 1 1 1 \n",
      "2 2 2 2 2 \n",
      "3 3 3 3 3 \n",
      "4 4 4 4 4 \n",
      "5 5 5 5 5 \n",
      "6 6 6 6 6 \n"
     ]
    }
   ],
   "source": [
    "n=int(input())\n",
    "for i in range(1,n+1):\n",
    "    for _ in range(1,6):\n",
    "        print(i,end=' ')\n",
    "    print()"
   ]
  },
  {
   "cell_type": "code",
   "execution_count": 31,
   "metadata": {},
   "outputs": [
    {
     "name": "stdout",
     "output_type": "stream",
     "text": [
      "5 + 1 = 6\n",
      "5 + 2 = 7\n",
      "5 + 3 = 8\n",
      "5 + 4 = 9\n",
      "5 + 5 = 10\n",
      "5 + 6 = 11\n",
      "5 + 7 = 12\n",
      "5 + 8 = 13\n",
      "5 + 9 = 14\n",
      "5 + 10 = 15\n"
     ]
    }
   ],
   "source": [
    "n=int(input())\n",
    "for i in range(1,11):\n",
    "    print(n,'+',i,'=',n+i)"
   ]
  },
  {
   "cell_type": "code",
   "execution_count": 55,
   "metadata": {},
   "outputs": [
    {
     "name": "stdout",
     "output_type": "stream",
     "text": [
      "1\n",
      "22\n",
      "333\n",
      "4444\n",
      "55555\n",
      "666666\n",
      "7777777\n",
      "88888888\n",
      "999999999\n",
      "10101010101010101010\n",
      "1111111111111111111111\n"
     ]
    }
   ],
   "source": [
    "n=int(input())\n",
    "for i in range(1,n+1):\n",
    "    print(str(i)*i)"
   ]
  },
  {
   "cell_type": "code",
   "execution_count": 16,
   "metadata": {},
   "outputs": [
    {
     "name": "stdout",
     "output_type": "stream",
     "text": [
      "1 \n",
      "2 3 \n",
      "4 5 6 \n",
      "7 8 9 10 \n",
      "11 12 13 14 15 \n",
      "16 17 18 19 20 21 \n",
      "22 23 24 25 26 27 28 \n"
     ]
    }
   ],
   "source": [
    "def print_numerical_triangle(n):\n",
    "    num = 1\n",
    "    for i in range(1, n + 1):\n",
    "        for j in range(i):\n",
    "            print(num, end=\" \")\n",
    "            num += 1\n",
    "        print()\n",
    "\n",
    "# Пример использования:\n",
    "n = int(input(\"Введите высоту треугольника: \"))\n",
    "print_numerical_triangle(n)"
   ]
  },
  {
   "cell_type": "code",
   "execution_count": 20,
   "metadata": {},
   "outputs": [
    {
     "name": "stdout",
     "output_type": "stream",
     "text": [
      "1 \n",
      "2 3 \n",
      "4 5 6 \n",
      "7 8 9 10 \n",
      "11 12 13 14 15 \n"
     ]
    }
   ],
   "source": [
    "n=int(input())\n",
    "num=1\n",
    "for i in range(1,n+1):\n",
    "    for j in range(i):\n",
    "        print(num,end=' ')\n",
    "        num+=1\n",
    "    print()"
   ]
  },
  {
   "cell_type": "code",
   "execution_count": 21,
   "metadata": {},
   "outputs": [
    {
     "name": "stdout",
     "output_type": "stream",
     "text": [
      "*\n",
      "***\n",
      "*****\n",
      "*******\n",
      "******\n",
      "****\n",
      "**\n"
     ]
    }
   ],
   "source": [
    "def print_isosceles_triangle(n):\n",
    "    # Верхняя часть треугольника\n",
    "    for i in range(1, n + 1, 2):\n",
    "        print(\"*\" * i)\n",
    "\n",
    "    # Нижняя часть треугольника\n",
    "    for i in range(n - 2, 0, -2):\n",
    "        print(\"*\" * i)\n",
    "\n",
    "# Пример использования:\n",
    "n = int(input(\"Введите нечетное натуральное число: \"))\n",
    "print_isosceles_triangle(n)\n"
   ]
  },
  {
   "cell_type": "code",
   "execution_count": 28,
   "metadata": {},
   "outputs": [
    {
     "name": "stdout",
     "output_type": "stream",
     "text": [
      "2\n",
      "3\n",
      "4\n",
      "4\n",
      "5\n",
      "5\n",
      "6\n",
      "6\n",
      "6\n"
     ]
    }
   ],
   "source": [
    "n=int(input())\n",
    "num=1\n",
    "for i in range(1,n+1):\n",
    "    for j in range(1,i,2):\n",
    "        \n"
   ]
  }
 ],
 "metadata": {
  "kernelspec": {
   "display_name": "Python 3",
   "language": "python",
   "name": "python3"
  },
  "language_info": {
   "codemirror_mode": {
    "name": "ipython",
    "version": 3
   },
   "file_extension": ".py",
   "mimetype": "text/x-python",
   "name": "python",
   "nbconvert_exporter": "python",
   "pygments_lexer": "ipython3",
   "version": "3.12.3"
  }
 },
 "nbformat": 4,
 "nbformat_minor": 2
}
