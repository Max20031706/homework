{
 "cells": [
  {
   "cell_type": "code",
   "execution_count": null,
   "metadata": {},
   "outputs": [],
   "source": [
    "with open('оценки.txt','r', encoding='utf-8') as text_file:\n",
    "    lines=text_file.readlines()\n",
    "    grades={}\n",
    "    names=[]\n",
    "    marks=[]\n",
    "    for line in lines:\n",
    "        line=line.strip()\n",
    "        line=line.split(',')\n",
    "        names.append(line[0])\n",
    "        marks.append(int(line[1]))\n",
    "        \n",
    "average_mark=sum(marks)/len(marks)\n",
    "print(average_mark)\n",
    "\n",
    "keys_to_delete=[]\n",
    "\n",
    "grades=dict(zip(names,marks))\n",
    "\n",
    "for key, value in grades.items():\n",
    "    if value <= average_mark:\n",
    "        keys_to_delete.append(key)\n",
    "\n",
    "\n",
    "for key in keys_to_delete:\n",
    "     del grades[key]\n",
    "\n",
    "with open('output.txt','w', encoding='utf-8') as output_file:\n",
    "    for key, value in grades.items():\n",
    "        output_file.write(f'{key},{value}\\n')\n"
   ]
  },
  {
   "cell_type": "markdown",
   "metadata": {},
   "source": [
    "Задачи 1 и 2 из ДЗ 2"
   ]
  },
  {
   "cell_type": "code",
   "execution_count": null,
   "metadata": {},
   "outputs": [],
   "source": [
    "with open('файл.txt', 'r', encoding='utf-8') as file:\n",
    "    lines = [line.strip() for line in file.readlines()]\n",
    "    symbols_to_delete = input()\n",
    "    lines = [line.rstrip(symbols_to_delete) for line in lines]\n",
    "    lines = [line for line in lines if len(line) > 0]\n",
    "    \n",
    "\n",
    "with open('output.txt', 'w', encoding='utf-8') as output:\n",
    "    output.write('\\n'.join(lines))"
   ]
  }
 ],
 "metadata": {
  "kernelspec": {
   "display_name": "Python 3",
   "language": "python",
   "name": "python3"
  },
  "language_info": {
   "codemirror_mode": {
    "name": "ipython",
    "version": 3
   },
   "file_extension": ".py",
   "mimetype": "text/x-python",
   "name": "python",
   "nbconvert_exporter": "python",
   "pygments_lexer": "ipython3",
   "version": "3.12.3"
  }
 },
 "nbformat": 4,
 "nbformat_minor": 2
}
