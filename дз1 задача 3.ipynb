{
 "cells": [
  {
   "cell_type": "markdown",
   "metadata": {},
   "source": [
    "задачи 1 и 3"
   ]
  },
  {
   "cell_type": "code",
   "execution_count": null,
   "metadata": {},
   "outputs": [],
   "source": [
    "n=int(input())\n",
    "print('')\n",
    "for i in range(1,n+1):\n",
    "    stars=('*'*(2*i-1))\n",
    "    spaces=\" \" * (n-i)\n",
    "    print(spaces+stars)    "
   ]
  },
  {
   "cell_type": "code",
   "execution_count": null,
   "metadata": {},
   "outputs": [],
   "source": [
    "n = int(input())\n",
    "while n > 9:\n",
    "    counter = 0\n",
    "    while n > 0:\n",
    "        d = n % 10\n",
    "        counter += d\n",
    "        n = n // 10\n",
    "    n = counter\n",
    "print(n)\n"
   ]
  }
 ],
 "metadata": {
  "kernelspec": {
   "display_name": "Python 3",
   "language": "python",
   "name": "python3"
  },
  "language_info": {
   "codemirror_mode": {
    "name": "ipython",
    "version": 3
   },
   "file_extension": ".py",
   "mimetype": "text/x-python",
   "name": "python",
   "nbconvert_exporter": "python",
   "pygments_lexer": "ipython3",
   "version": "3.12.3"
  }
 },
 "nbformat": 4,
 "nbformat_minor": 2
}
