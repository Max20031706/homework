{
 "cells": [
  {
   "cell_type": "code",
   "execution_count": null,
   "metadata": {},
   "outputs": [],
   "source": [
    "try:\n",
    "    with open('города.txt', 'r', encoding='utf-8') as file:\n",
    "        lines = file.readlines()\n",
    "        lines = [line.strip('\\n') for line in lines]\n",
    "        d = {}\n",
    "        p = []\n",
    "        cities = []\n",
    "        for line in lines:\n",
    "            line = line.split(':')\n",
    "            for c in line:\n",
    "                if c.isdigit():\n",
    "                    p.append(c)\n",
    "                else:\n",
    "                    cities.append(c)\n",
    "        d = dict(zip(cities, p))\n",
    "        print(d)\n",
    "except FileNotFoundError:\n",
    "    print(\"Файл 'города.txt' не найден. Пожалуйста, проверьте имя файла и его местоположение.\")\n",
    "except Exception as e:\n",
    "    print(f\"Произошла ошибка при чтении файла: {e}\")\n",
    "else:\n",
    "    try:\n",
    "        d1 = {}\n",
    "        n = int(input(\"Введите значение n: \"))\n",
    "        for key, value in d.items():\n",
    "            if int(value) > n:\n",
    "                d1[key] = value\n",
    "        print(d1)\n",
    "        \n",
    "        with open('города1.txt', 'w', encoding='utf-8') as output:\n",
    "            for key, value in d1.items():\n",
    "                output.writelines(f'{key},{value}\\n')\n",
    "    except Exception as e:\n",
    "        print(f\"Произошла ошибка при обработке данных или записи в файл: {e}\")\n"
   ]
  },
  {
   "cell_type": "markdown",
   "metadata": {},
   "source": [
    "Задачи 1 и 3 из ДЗ 3"
   ]
  },
  {
   "cell_type": "code",
   "execution_count": null,
   "metadata": {},
   "outputs": [],
   "source": [
    "try:\n",
    "    with open(r'C:\\Users\\Owner\\OneDrive\\Рабочий стол\\Python\\файлы для программ\\курсы.txt', 'r', encoding='utf-8') as file:\n",
    "        lines = file.readlines()\n",
    "        lines = [line.strip('\\n') for line in lines]\n",
    "        print(lines)\n",
    "\n",
    "        math_students = []\n",
    "        science_students = []\n",
    "        art_students = []\n",
    "        history_students = []\n",
    "\n",
    "        for line in lines:\n",
    "            if ':' in line:\n",
    "                name, courses = line.split(':')\n",
    "                name = name.strip()\n",
    "                courses_list = [course.strip() for course in courses.split(',') if course.strip()]\n",
    "                \n",
    "                if 'Math' in courses_list:\n",
    "                    math_students.append(name)\n",
    "                if 'History' in courses_list:\n",
    "                    history_students.append(name)\n",
    "                if 'Science' in courses_list:\n",
    "                    science_students.append(name)\n",
    "                if 'Art' in courses_list:\n",
    "                    art_students.append(name)\n",
    "\n",
    "        print(\"Math students:\", math_students)\n",
    "        print(\"Science students:\", science_students)\n",
    "        print(\"Art students:\", art_students)\n",
    "        print(\"History students:\", history_students)\n",
    "except FileNotFoundError:\n",
    "    print(\"Файл не найден. Пожалуйста, проверьте путь и имя файла.\")\n",
    "except Exception as e:\n",
    "    print(f\"Произошла ошибка: {e}\")\n"
   ]
  }
 ],
 "metadata": {
  "kernelspec": {
   "display_name": "Python 3",
   "language": "python",
   "name": "python3"
  },
  "language_info": {
   "codemirror_mode": {
    "name": "ipython",
    "version": 3
   },
   "file_extension": ".py",
   "mimetype": "text/x-python",
   "name": "python",
   "nbconvert_exporter": "python",
   "pygments_lexer": "ipython3",
   "version": "3.12.3"
  }
 },
 "nbformat": 4,
 "nbformat_minor": 2
}
